{
 "cells": [
  {
   "cell_type": "code",
   "execution_count": 52,
   "id": "9b410202-d904-4b8d-ab4e-0577c000f0e8",
   "metadata": {},
   "outputs": [
    {
     "data": {
      "text/html": [
       "<div>\n",
       "<style scoped>\n",
       "    .dataframe tbody tr th:only-of-type {\n",
       "        vertical-align: middle;\n",
       "    }\n",
       "\n",
       "    .dataframe tbody tr th {\n",
       "        vertical-align: top;\n",
       "    }\n",
       "\n",
       "    .dataframe thead th {\n",
       "        text-align: right;\n",
       "    }\n",
       "</style>\n",
       "<table border=\"1\" class=\"dataframe\">\n",
       "  <thead>\n",
       "    <tr style=\"text-align: right;\">\n",
       "      <th></th>\n",
       "      <th>City</th>\n",
       "      <th>Country</th>\n",
       "      <th>Date</th>\n",
       "      <th>PM2.5</th>\n",
       "      <th>PM10</th>\n",
       "      <th>NO2</th>\n",
       "      <th>SO2</th>\n",
       "      <th>CO</th>\n",
       "      <th>O3</th>\n",
       "      <th>Temperature</th>\n",
       "      <th>Humidity</th>\n",
       "      <th>Wind Speed</th>\n",
       "    </tr>\n",
       "  </thead>\n",
       "  <tbody>\n",
       "    <tr>\n",
       "      <th>0</th>\n",
       "      <td>Bangkok</td>\n",
       "      <td>Thailand</td>\n",
       "      <td>2023-03-19</td>\n",
       "      <td>86.57</td>\n",
       "      <td>25.19</td>\n",
       "      <td>99.88</td>\n",
       "      <td>30.63</td>\n",
       "      <td>4.46</td>\n",
       "      <td>36.29</td>\n",
       "      <td>17.67</td>\n",
       "      <td>59.35</td>\n",
       "      <td>13.76</td>\n",
       "    </tr>\n",
       "    <tr>\n",
       "      <th>1</th>\n",
       "      <td>Istanbul</td>\n",
       "      <td>Turkey</td>\n",
       "      <td>2023-02-16</td>\n",
       "      <td>50.63</td>\n",
       "      <td>97.39</td>\n",
       "      <td>48.14</td>\n",
       "      <td>8.71</td>\n",
       "      <td>3.40</td>\n",
       "      <td>144.16</td>\n",
       "      <td>3.46</td>\n",
       "      <td>67.51</td>\n",
       "      <td>6.36</td>\n",
       "    </tr>\n",
       "    <tr>\n",
       "      <th>2</th>\n",
       "      <td>Rio de Janeiro</td>\n",
       "      <td>Brazil</td>\n",
       "      <td>2023-11-13</td>\n",
       "      <td>130.21</td>\n",
       "      <td>57.22</td>\n",
       "      <td>98.51</td>\n",
       "      <td>9.92</td>\n",
       "      <td>0.12</td>\n",
       "      <td>179.31</td>\n",
       "      <td>25.29</td>\n",
       "      <td>29.30</td>\n",
       "      <td>12.87</td>\n",
       "    </tr>\n",
       "    <tr>\n",
       "      <th>3</th>\n",
       "      <td>Mumbai</td>\n",
       "      <td>India</td>\n",
       "      <td>2023-03-16</td>\n",
       "      <td>119.70</td>\n",
       "      <td>130.52</td>\n",
       "      <td>10.96</td>\n",
       "      <td>33.03</td>\n",
       "      <td>7.74</td>\n",
       "      <td>38.65</td>\n",
       "      <td>23.15</td>\n",
       "      <td>99.97</td>\n",
       "      <td>7.71</td>\n",
       "    </tr>\n",
       "    <tr>\n",
       "      <th>4</th>\n",
       "      <td>Paris</td>\n",
       "      <td>France</td>\n",
       "      <td>2023-04-04</td>\n",
       "      <td>55.20</td>\n",
       "      <td>36.62</td>\n",
       "      <td>76.85</td>\n",
       "      <td>21.85</td>\n",
       "      <td>2.00</td>\n",
       "      <td>67.09</td>\n",
       "      <td>16.02</td>\n",
       "      <td>90.28</td>\n",
       "      <td>14.16</td>\n",
       "    </tr>\n",
       "    <tr>\n",
       "      <th>...</th>\n",
       "      <td>...</td>\n",
       "      <td>...</td>\n",
       "      <td>...</td>\n",
       "      <td>...</td>\n",
       "      <td>...</td>\n",
       "      <td>...</td>\n",
       "      <td>...</td>\n",
       "      <td>...</td>\n",
       "      <td>...</td>\n",
       "      <td>...</td>\n",
       "      <td>...</td>\n",
       "      <td>...</td>\n",
       "    </tr>\n",
       "    <tr>\n",
       "      <th>9995</th>\n",
       "      <td>Johannesburg</td>\n",
       "      <td>South Africa</td>\n",
       "      <td>2023-09-16</td>\n",
       "      <td>147.85</td>\n",
       "      <td>184.34</td>\n",
       "      <td>90.33</td>\n",
       "      <td>34.93</td>\n",
       "      <td>2.81</td>\n",
       "      <td>191.45</td>\n",
       "      <td>-1.92</td>\n",
       "      <td>65.22</td>\n",
       "      <td>15.48</td>\n",
       "    </tr>\n",
       "    <tr>\n",
       "      <th>9996</th>\n",
       "      <td>Berlin</td>\n",
       "      <td>Germany</td>\n",
       "      <td>2023-12-05</td>\n",
       "      <td>12.22</td>\n",
       "      <td>121.49</td>\n",
       "      <td>49.04</td>\n",
       "      <td>5.66</td>\n",
       "      <td>2.10</td>\n",
       "      <td>184.56</td>\n",
       "      <td>-9.81</td>\n",
       "      <td>12.16</td>\n",
       "      <td>10.75</td>\n",
       "    </tr>\n",
       "    <tr>\n",
       "      <th>9997</th>\n",
       "      <td>Moscow</td>\n",
       "      <td>Russia</td>\n",
       "      <td>2023-11-26</td>\n",
       "      <td>44.07</td>\n",
       "      <td>143.62</td>\n",
       "      <td>8.41</td>\n",
       "      <td>32.58</td>\n",
       "      <td>0.69</td>\n",
       "      <td>167.68</td>\n",
       "      <td>39.35</td>\n",
       "      <td>53.95</td>\n",
       "      <td>4.56</td>\n",
       "    </tr>\n",
       "    <tr>\n",
       "      <th>9998</th>\n",
       "      <td>Berlin</td>\n",
       "      <td>Germany</td>\n",
       "      <td>2023-02-03</td>\n",
       "      <td>67.43</td>\n",
       "      <td>96.79</td>\n",
       "      <td>43.23</td>\n",
       "      <td>29.19</td>\n",
       "      <td>6.01</td>\n",
       "      <td>148.50</td>\n",
       "      <td>26.21</td>\n",
       "      <td>58.54</td>\n",
       "      <td>2.71</td>\n",
       "    </tr>\n",
       "    <tr>\n",
       "      <th>9999</th>\n",
       "      <td>Bangkok</td>\n",
       "      <td>Thailand</td>\n",
       "      <td>2023-06-13</td>\n",
       "      <td>16.34</td>\n",
       "      <td>28.80</td>\n",
       "      <td>50.48</td>\n",
       "      <td>21.20</td>\n",
       "      <td>0.49</td>\n",
       "      <td>17.41</td>\n",
       "      <td>2.50</td>\n",
       "      <td>66.05</td>\n",
       "      <td>5.01</td>\n",
       "    </tr>\n",
       "  </tbody>\n",
       "</table>\n",
       "<p>10000 rows × 12 columns</p>\n",
       "</div>"
      ],
      "text/plain": [
       "                City       Country        Date   PM2.5    PM10    NO2    SO2  \\\n",
       "0            Bangkok      Thailand  2023-03-19   86.57   25.19  99.88  30.63   \n",
       "1           Istanbul        Turkey  2023-02-16   50.63   97.39  48.14   8.71   \n",
       "2     Rio de Janeiro        Brazil  2023-11-13  130.21   57.22  98.51   9.92   \n",
       "3             Mumbai         India  2023-03-16  119.70  130.52  10.96  33.03   \n",
       "4              Paris        France  2023-04-04   55.20   36.62  76.85  21.85   \n",
       "...              ...           ...         ...     ...     ...    ...    ...   \n",
       "9995    Johannesburg  South Africa  2023-09-16  147.85  184.34  90.33  34.93   \n",
       "9996          Berlin       Germany  2023-12-05   12.22  121.49  49.04   5.66   \n",
       "9997          Moscow        Russia  2023-11-26   44.07  143.62   8.41  32.58   \n",
       "9998          Berlin       Germany  2023-02-03   67.43   96.79  43.23  29.19   \n",
       "9999         Bangkok      Thailand  2023-06-13   16.34   28.80  50.48  21.20   \n",
       "\n",
       "        CO      O3  Temperature  Humidity  Wind Speed  \n",
       "0     4.46   36.29        17.67     59.35       13.76  \n",
       "1     3.40  144.16         3.46     67.51        6.36  \n",
       "2     0.12  179.31        25.29     29.30       12.87  \n",
       "3     7.74   38.65        23.15     99.97        7.71  \n",
       "4     2.00   67.09        16.02     90.28       14.16  \n",
       "...    ...     ...          ...       ...         ...  \n",
       "9995  2.81  191.45        -1.92     65.22       15.48  \n",
       "9996  2.10  184.56        -9.81     12.16       10.75  \n",
       "9997  0.69  167.68        39.35     53.95        4.56  \n",
       "9998  6.01  148.50        26.21     58.54        2.71  \n",
       "9999  0.49   17.41         2.50     66.05        5.01  \n",
       "\n",
       "[10000 rows x 12 columns]"
      ]
     },
     "execution_count": 52,
     "metadata": {},
     "output_type": "execute_result"
    }
   ],
   "source": [
    "import pandas as pd\n",
    "import numpy as np\n",
    "df = pd.read_csv(\"archive.zip\")\n",
    "df"
   ]
  },
  {
   "cell_type": "code",
   "execution_count": 53,
   "id": "08f1be6c-f55d-43cb-b995-1269783e7201",
   "metadata": {},
   "outputs": [
    {
     "data": {
      "text/html": [
       "<div>\n",
       "<style scoped>\n",
       "    .dataframe tbody tr th:only-of-type {\n",
       "        vertical-align: middle;\n",
       "    }\n",
       "\n",
       "    .dataframe tbody tr th {\n",
       "        vertical-align: top;\n",
       "    }\n",
       "\n",
       "    .dataframe thead th {\n",
       "        text-align: right;\n",
       "    }\n",
       "</style>\n",
       "<table border=\"1\" class=\"dataframe\">\n",
       "  <thead>\n",
       "    <tr style=\"text-align: right;\">\n",
       "      <th></th>\n",
       "      <th>City</th>\n",
       "      <th>Country</th>\n",
       "      <th>Date</th>\n",
       "      <th>PM2.5</th>\n",
       "      <th>PM10</th>\n",
       "      <th>NO2</th>\n",
       "      <th>SO2</th>\n",
       "      <th>CO</th>\n",
       "      <th>O3</th>\n",
       "      <th>Temperature</th>\n",
       "      <th>Humidity</th>\n",
       "      <th>Wind Speed</th>\n",
       "    </tr>\n",
       "  </thead>\n",
       "  <tbody>\n",
       "    <tr>\n",
       "      <th>0</th>\n",
       "      <td>Bangkok</td>\n",
       "      <td>Thailand</td>\n",
       "      <td>2023-03-19</td>\n",
       "      <td>86.57</td>\n",
       "      <td>25.19</td>\n",
       "      <td>99.88</td>\n",
       "      <td>30.63</td>\n",
       "      <td>4.46</td>\n",
       "      <td>36.29</td>\n",
       "      <td>17.67</td>\n",
       "      <td>59.35</td>\n",
       "      <td>13.76</td>\n",
       "    </tr>\n",
       "    <tr>\n",
       "      <th>1</th>\n",
       "      <td>Istanbul</td>\n",
       "      <td>Turkey</td>\n",
       "      <td>2023-02-16</td>\n",
       "      <td>50.63</td>\n",
       "      <td>97.39</td>\n",
       "      <td>48.14</td>\n",
       "      <td>8.71</td>\n",
       "      <td>3.40</td>\n",
       "      <td>144.16</td>\n",
       "      <td>3.46</td>\n",
       "      <td>67.51</td>\n",
       "      <td>6.36</td>\n",
       "    </tr>\n",
       "    <tr>\n",
       "      <th>2</th>\n",
       "      <td>Rio de Janeiro</td>\n",
       "      <td>Brazil</td>\n",
       "      <td>2023-11-13</td>\n",
       "      <td>130.21</td>\n",
       "      <td>57.22</td>\n",
       "      <td>98.51</td>\n",
       "      <td>9.92</td>\n",
       "      <td>0.12</td>\n",
       "      <td>179.31</td>\n",
       "      <td>25.29</td>\n",
       "      <td>29.30</td>\n",
       "      <td>12.87</td>\n",
       "    </tr>\n",
       "    <tr>\n",
       "      <th>3</th>\n",
       "      <td>Mumbai</td>\n",
       "      <td>India</td>\n",
       "      <td>2023-03-16</td>\n",
       "      <td>119.70</td>\n",
       "      <td>130.52</td>\n",
       "      <td>10.96</td>\n",
       "      <td>33.03</td>\n",
       "      <td>7.74</td>\n",
       "      <td>38.65</td>\n",
       "      <td>23.15</td>\n",
       "      <td>99.97</td>\n",
       "      <td>7.71</td>\n",
       "    </tr>\n",
       "    <tr>\n",
       "      <th>4</th>\n",
       "      <td>Paris</td>\n",
       "      <td>France</td>\n",
       "      <td>2023-04-04</td>\n",
       "      <td>55.20</td>\n",
       "      <td>36.62</td>\n",
       "      <td>76.85</td>\n",
       "      <td>21.85</td>\n",
       "      <td>2.00</td>\n",
       "      <td>67.09</td>\n",
       "      <td>16.02</td>\n",
       "      <td>90.28</td>\n",
       "      <td>14.16</td>\n",
       "    </tr>\n",
       "  </tbody>\n",
       "</table>\n",
       "</div>"
      ],
      "text/plain": [
       "             City   Country        Date   PM2.5    PM10    NO2    SO2    CO  \\\n",
       "0         Bangkok  Thailand  2023-03-19   86.57   25.19  99.88  30.63  4.46   \n",
       "1        Istanbul    Turkey  2023-02-16   50.63   97.39  48.14   8.71  3.40   \n",
       "2  Rio de Janeiro    Brazil  2023-11-13  130.21   57.22  98.51   9.92  0.12   \n",
       "3          Mumbai     India  2023-03-16  119.70  130.52  10.96  33.03  7.74   \n",
       "4           Paris    France  2023-04-04   55.20   36.62  76.85  21.85  2.00   \n",
       "\n",
       "       O3  Temperature  Humidity  Wind Speed  \n",
       "0   36.29        17.67     59.35       13.76  \n",
       "1  144.16         3.46     67.51        6.36  \n",
       "2  179.31        25.29     29.30       12.87  \n",
       "3   38.65        23.15     99.97        7.71  \n",
       "4   67.09        16.02     90.28       14.16  "
      ]
     },
     "execution_count": 53,
     "metadata": {},
     "output_type": "execute_result"
    }
   ],
   "source": [
    "df.head()"
   ]
  },
  {
   "cell_type": "code",
   "execution_count": 54,
   "id": "9be7a3a8-3dcf-401b-8b30-2be13065e5cb",
   "metadata": {},
   "outputs": [
    {
     "name": "stdout",
     "output_type": "stream",
     "text": [
      "             City   Country       Date   PM2.5    PM10    NO2    SO2    CO  \\\n",
      "0         Bangkok  Thailand 2023-03-19   86.57   25.19  99.88  30.63  4.46   \n",
      "1        Istanbul    Turkey 2023-02-16   50.63   97.39  48.14   8.71  3.40   \n",
      "2  Rio de Janeiro    Brazil 2023-11-13  130.21   57.22  98.51   9.92  0.12   \n",
      "3          Mumbai     India 2023-03-16  119.70  130.52  10.96  33.03  7.74   \n",
      "4           Paris    France 2023-04-04   55.20   36.62  76.85  21.85  2.00   \n",
      "\n",
      "       O3  Temperature  Humidity  Wind Speed  \n",
      "0   36.29        17.67     59.35       13.76  \n",
      "1  144.16         3.46     67.51        6.36  \n",
      "2  179.31        25.29     29.30       12.87  \n",
      "3   38.65        23.15     99.97        7.71  \n",
      "4   67.09        16.02     90.28       14.16  \n"
     ]
    }
   ],
   "source": [
    "data = {\n",
    "    \"City\": [\"Bangkok\", \"Istanbul\", \"Rio de Janeiro\", \"Mumbai\", \"Paris\"],\n",
    "    \"Country\": [\"Thailand\", \"Turkey\", \"Brazil\", \"India\", \"France\"],\n",
    "    \"Date\": [\"2023-03-19\", \"2023-02-16\", \"2023-11-13\", \"2023-03-16\", \"2023-04-04\"],\n",
    "    \"PM2.5\": [86.57, 50.63, 130.21, 119.70, 55.20],\n",
    "    \"PM10\": [25.19, 97.39, 57.22, 130.52, 36.62],\n",
    "    \"NO2\": [99.88, 48.14, 98.51, 10.96, 76.85],\n",
    "    \"SO2\": [30.63, 8.71, 9.92, 33.03, 21.85],\n",
    "    \"CO\": [4.46, 3.40, 0.12, 7.74, 2.00],\n",
    "    \"O3\": [36.29, 144.16, 179.31, 38.65, 67.09],\n",
    "    \"Temperature\": [17.67, 3.46, 25.29, 23.15, 16.02],\n",
    "    \"Humidity\": [59.35, 67.51, 29.30, 99.97, 90.28],\n",
    "    \"Wind Speed\": [13.76, 6.36, 12.87, 7.71, 14.16]\n",
    "}\n",
    "\n",
    "df = pd.DataFrame(data)\n",
    "df['Date'] = pd.to_datetime(df['Date'])\n",
    "print(df)"
   ]
  },
  {
   "cell_type": "code",
   "execution_count": 55,
   "id": "66531544-8d59-42fc-82b9-42ab8b32f705",
   "metadata": {},
   "outputs": [
    {
     "data": {
      "text/plain": [
       "Index(['City', 'Country', 'Date', 'PM2.5', 'PM10', 'NO2', 'SO2', 'CO', 'O3',\n",
       "       'Temperature', 'Humidity', 'Wind Speed'],\n",
       "      dtype='object')"
      ]
     },
     "execution_count": 55,
     "metadata": {},
     "output_type": "execute_result"
    }
   ],
   "source": [
    "df.columns"
   ]
  },
  {
   "cell_type": "code",
   "execution_count": 56,
   "id": "6cb85534-42ae-48ce-adfc-afdebdd2f98e",
   "metadata": {},
   "outputs": [
    {
     "data": {
      "text/html": [
       "<div>\n",
       "<style scoped>\n",
       "    .dataframe tbody tr th:only-of-type {\n",
       "        vertical-align: middle;\n",
       "    }\n",
       "\n",
       "    .dataframe tbody tr th {\n",
       "        vertical-align: top;\n",
       "    }\n",
       "\n",
       "    .dataframe thead th {\n",
       "        text-align: right;\n",
       "    }\n",
       "</style>\n",
       "<table border=\"1\" class=\"dataframe\">\n",
       "  <thead>\n",
       "    <tr style=\"text-align: right;\">\n",
       "      <th></th>\n",
       "      <th>City</th>\n",
       "      <th>Country</th>\n",
       "      <th>Date</th>\n",
       "      <th>PM2.5</th>\n",
       "      <th>PM10</th>\n",
       "      <th>NO2</th>\n",
       "      <th>SO2</th>\n",
       "      <th>CO</th>\n",
       "      <th>O3</th>\n",
       "      <th>Temperature</th>\n",
       "      <th>Humidity</th>\n",
       "      <th>Wind Speed</th>\n",
       "    </tr>\n",
       "  </thead>\n",
       "  <tbody>\n",
       "    <tr>\n",
       "      <th>0</th>\n",
       "      <td>Bangkok</td>\n",
       "      <td>Thailand</td>\n",
       "      <td>2023-03-19</td>\n",
       "      <td>86.57</td>\n",
       "      <td>25.19</td>\n",
       "      <td>99.88</td>\n",
       "      <td>30.63</td>\n",
       "      <td>4.46</td>\n",
       "      <td>36.29</td>\n",
       "      <td>17.67</td>\n",
       "      <td>59.35</td>\n",
       "      <td>13.76</td>\n",
       "    </tr>\n",
       "    <tr>\n",
       "      <th>1</th>\n",
       "      <td>Istanbul</td>\n",
       "      <td>Turkey</td>\n",
       "      <td>2023-02-16</td>\n",
       "      <td>50.63</td>\n",
       "      <td>97.39</td>\n",
       "      <td>48.14</td>\n",
       "      <td>8.71</td>\n",
       "      <td>3.40</td>\n",
       "      <td>144.16</td>\n",
       "      <td>3.46</td>\n",
       "      <td>67.51</td>\n",
       "      <td>6.36</td>\n",
       "    </tr>\n",
       "    <tr>\n",
       "      <th>2</th>\n",
       "      <td>Rio de Janeiro</td>\n",
       "      <td>Brazil</td>\n",
       "      <td>2023-11-13</td>\n",
       "      <td>130.21</td>\n",
       "      <td>57.22</td>\n",
       "      <td>98.51</td>\n",
       "      <td>9.92</td>\n",
       "      <td>0.12</td>\n",
       "      <td>179.31</td>\n",
       "      <td>25.29</td>\n",
       "      <td>29.30</td>\n",
       "      <td>12.87</td>\n",
       "    </tr>\n",
       "    <tr>\n",
       "      <th>3</th>\n",
       "      <td>Mumbai</td>\n",
       "      <td>India</td>\n",
       "      <td>2023-03-16</td>\n",
       "      <td>119.70</td>\n",
       "      <td>130.52</td>\n",
       "      <td>10.96</td>\n",
       "      <td>33.03</td>\n",
       "      <td>7.74</td>\n",
       "      <td>38.65</td>\n",
       "      <td>23.15</td>\n",
       "      <td>99.97</td>\n",
       "      <td>7.71</td>\n",
       "    </tr>\n",
       "    <tr>\n",
       "      <th>4</th>\n",
       "      <td>Paris</td>\n",
       "      <td>France</td>\n",
       "      <td>2023-04-04</td>\n",
       "      <td>55.20</td>\n",
       "      <td>36.62</td>\n",
       "      <td>76.85</td>\n",
       "      <td>21.85</td>\n",
       "      <td>2.00</td>\n",
       "      <td>67.09</td>\n",
       "      <td>16.02</td>\n",
       "      <td>90.28</td>\n",
       "      <td>14.16</td>\n",
       "    </tr>\n",
       "  </tbody>\n",
       "</table>\n",
       "</div>"
      ],
      "text/plain": [
       "             City   Country        Date   PM2.5    PM10    NO2    SO2    CO  \\\n",
       "0         Bangkok  Thailand  2023-03-19   86.57   25.19  99.88  30.63  4.46   \n",
       "1        Istanbul    Turkey  2023-02-16   50.63   97.39  48.14   8.71  3.40   \n",
       "2  Rio de Janeiro    Brazil  2023-11-13  130.21   57.22  98.51   9.92  0.12   \n",
       "3          Mumbai     India  2023-03-16  119.70  130.52  10.96  33.03  7.74   \n",
       "4           Paris    France  2023-04-04   55.20   36.62  76.85  21.85  2.00   \n",
       "\n",
       "       O3  Temperature  Humidity  Wind Speed  \n",
       "0   36.29        17.67     59.35       13.76  \n",
       "1  144.16         3.46     67.51        6.36  \n",
       "2  179.31        25.29     29.30       12.87  \n",
       "3   38.65        23.15     99.97        7.71  \n",
       "4   67.09        16.02     90.28       14.16  "
      ]
     },
     "execution_count": 56,
     "metadata": {},
     "output_type": "execute_result"
    }
   ],
   "source": [
    "Global_Air_Quality_Data_df=pd.DataFrame(data)\n",
    "Global_Air_Quality_Data_df"
   ]
  },
  {
   "cell_type": "code",
   "execution_count": 57,
   "id": "1ebe2d02-8349-4e45-9b87-d2132a8d944b",
   "metadata": {},
   "outputs": [],
   "source": [
    "Global_Air_Quality_Data_df = pd.DataFrame(data)"
   ]
  },
  {
   "cell_type": "code",
   "execution_count": 58,
   "id": "145b137b-6916-4c62-acb4-546ca3bf2bc8",
   "metadata": {},
   "outputs": [
    {
     "data": {
      "text/plain": [
       "City           0\n",
       "Country        0\n",
       "Date           0\n",
       "PM2.5          0\n",
       "PM10           0\n",
       "NO2            0\n",
       "SO2            0\n",
       "CO             0\n",
       "O3             0\n",
       "Temperature    0\n",
       "Humidity       0\n",
       "Wind Speed     0\n",
       "dtype: int64"
      ]
     },
     "execution_count": 58,
     "metadata": {},
     "output_type": "execute_result"
    }
   ],
   "source": [
    "cleaned_df=Global_Air_Quality_Data_df.dropna()\n",
    "cleaned_df.isnull().sum()"
   ]
  },
  {
   "cell_type": "code",
   "execution_count": 59,
   "id": "7386670d-7e4f-4530-981d-4c963fff3247",
   "metadata": {},
   "outputs": [
    {
     "data": {
      "text/plain": [
       "City           0\n",
       "Country        0\n",
       "Date           0\n",
       "PM2.5          0\n",
       "PM10           0\n",
       "NO2            0\n",
       "SO2            0\n",
       "CO             0\n",
       "O3             0\n",
       "Temperature    0\n",
       "Humidity       0\n",
       "Wind Speed     0\n",
       "dtype: int64"
      ]
     },
     "execution_count": 59,
     "metadata": {},
     "output_type": "execute_result"
    }
   ],
   "source": [
    "Global_Air_Quality_Data_df.isna().sum()"
   ]
  },
  {
   "cell_type": "code",
   "execution_count": 60,
   "id": "605d8238-0b7d-4155-99dd-6eb939f323c8",
   "metadata": {},
   "outputs": [
    {
     "data": {
      "text/html": [
       "<div>\n",
       "<style scoped>\n",
       "    .dataframe tbody tr th:only-of-type {\n",
       "        vertical-align: middle;\n",
       "    }\n",
       "\n",
       "    .dataframe tbody tr th {\n",
       "        vertical-align: top;\n",
       "    }\n",
       "\n",
       "    .dataframe thead th {\n",
       "        text-align: right;\n",
       "    }\n",
       "</style>\n",
       "<table border=\"1\" class=\"dataframe\">\n",
       "  <thead>\n",
       "    <tr style=\"text-align: right;\">\n",
       "      <th></th>\n",
       "      <th>City</th>\n",
       "      <th>Country</th>\n",
       "      <th>Date</th>\n",
       "      <th>PM2.5</th>\n",
       "      <th>PM10</th>\n",
       "      <th>NO2</th>\n",
       "      <th>SO2</th>\n",
       "      <th>CO</th>\n",
       "      <th>O3</th>\n",
       "      <th>Temperature</th>\n",
       "      <th>Humidity</th>\n",
       "      <th>Wind Speed</th>\n",
       "    </tr>\n",
       "  </thead>\n",
       "  <tbody>\n",
       "    <tr>\n",
       "      <th>0</th>\n",
       "      <td>Bangkok</td>\n",
       "      <td>Thailand</td>\n",
       "      <td>2023-03-19</td>\n",
       "      <td>86.57</td>\n",
       "      <td>25.19</td>\n",
       "      <td>99.88</td>\n",
       "      <td>30.63</td>\n",
       "      <td>4.46</td>\n",
       "      <td>36.29</td>\n",
       "      <td>17.67</td>\n",
       "      <td>59.35</td>\n",
       "      <td>13.76</td>\n",
       "    </tr>\n",
       "    <tr>\n",
       "      <th>1</th>\n",
       "      <td>Istanbul</td>\n",
       "      <td>Turkey</td>\n",
       "      <td>2023-02-16</td>\n",
       "      <td>50.63</td>\n",
       "      <td>97.39</td>\n",
       "      <td>48.14</td>\n",
       "      <td>8.71</td>\n",
       "      <td>3.40</td>\n",
       "      <td>144.16</td>\n",
       "      <td>3.46</td>\n",
       "      <td>67.51</td>\n",
       "      <td>6.36</td>\n",
       "    </tr>\n",
       "    <tr>\n",
       "      <th>2</th>\n",
       "      <td>Rio de Janeiro</td>\n",
       "      <td>Brazil</td>\n",
       "      <td>2023-11-13</td>\n",
       "      <td>130.21</td>\n",
       "      <td>57.22</td>\n",
       "      <td>98.51</td>\n",
       "      <td>9.92</td>\n",
       "      <td>0.12</td>\n",
       "      <td>179.31</td>\n",
       "      <td>25.29</td>\n",
       "      <td>29.30</td>\n",
       "      <td>12.87</td>\n",
       "    </tr>\n",
       "    <tr>\n",
       "      <th>3</th>\n",
       "      <td>Mumbai</td>\n",
       "      <td>India</td>\n",
       "      <td>2023-03-16</td>\n",
       "      <td>119.70</td>\n",
       "      <td>130.52</td>\n",
       "      <td>10.96</td>\n",
       "      <td>33.03</td>\n",
       "      <td>7.74</td>\n",
       "      <td>38.65</td>\n",
       "      <td>23.15</td>\n",
       "      <td>99.97</td>\n",
       "      <td>7.71</td>\n",
       "    </tr>\n",
       "    <tr>\n",
       "      <th>4</th>\n",
       "      <td>Paris</td>\n",
       "      <td>France</td>\n",
       "      <td>2023-04-04</td>\n",
       "      <td>55.20</td>\n",
       "      <td>36.62</td>\n",
       "      <td>76.85</td>\n",
       "      <td>21.85</td>\n",
       "      <td>2.00</td>\n",
       "      <td>67.09</td>\n",
       "      <td>16.02</td>\n",
       "      <td>90.28</td>\n",
       "      <td>14.16</td>\n",
       "    </tr>\n",
       "  </tbody>\n",
       "</table>\n",
       "</div>"
      ],
      "text/plain": [
       "             City   Country        Date   PM2.5    PM10    NO2    SO2    CO  \\\n",
       "0         Bangkok  Thailand  2023-03-19   86.57   25.19  99.88  30.63  4.46   \n",
       "1        Istanbul    Turkey  2023-02-16   50.63   97.39  48.14   8.71  3.40   \n",
       "2  Rio de Janeiro    Brazil  2023-11-13  130.21   57.22  98.51   9.92  0.12   \n",
       "3          Mumbai     India  2023-03-16  119.70  130.52  10.96  33.03  7.74   \n",
       "4           Paris    France  2023-04-04   55.20   36.62  76.85  21.85  2.00   \n",
       "\n",
       "       O3  Temperature  Humidity  Wind Speed  \n",
       "0   36.29        17.67     59.35       13.76  \n",
       "1  144.16         3.46     67.51        6.36  \n",
       "2  179.31        25.29     29.30       12.87  \n",
       "3   38.65        23.15     99.97        7.71  \n",
       "4   67.09        16.02     90.28       14.16  "
      ]
     },
     "execution_count": 60,
     "metadata": {},
     "output_type": "execute_result"
    }
   ],
   "source": [
    "cleaned_df"
   ]
  },
  {
   "cell_type": "code",
   "execution_count": 61,
   "id": "7581ba48-3ea3-4ca2-b1a8-fba3b7e93beb",
   "metadata": {},
   "outputs": [
    {
     "data": {
      "text/plain": [
       "Index(['City', 'Country', 'Date', 'PM2.5', 'PM10', 'NO2', 'SO2', 'CO', 'O3',\n",
       "       'Temperature', 'Humidity', 'Wind Speed'],\n",
       "      dtype='object')"
      ]
     },
     "execution_count": 61,
     "metadata": {},
     "output_type": "execute_result"
    }
   ],
   "source": [
    "Global_Air_Quality_Data_df.columns"
   ]
  },
  {
   "cell_type": "code",
   "execution_count": 62,
   "id": "e4ed41e5-530f-41d5-b586-63e87ec38cd2",
   "metadata": {},
   "outputs": [],
   "source": [
    "from sklearn.preprocessing import StandardScaler\n",
    "scaler_news=StandardScaler()"
   ]
  },
  {
   "cell_type": "code",
   "execution_count": 70,
   "id": "c5972200-9843-4c28-a65e-634b53c5fee1",
   "metadata": {},
   "outputs": [
    {
     "name": "stdout",
     "output_type": "stream",
     "text": [
      "Column Sums \n",
      " PM2.5          442.31\n",
      "PM10           346.94\n",
      "NO2            334.34\n",
      "SO2            104.14\n",
      "CO              17.72\n",
      "O3             465.50\n",
      "Temperature     85.59\n",
      "Humidity       346.41\n",
      "Wind Speed      54.86\n",
      "dtype: float64\n"
     ]
    }
   ],
   "source": [
    "column_sums = df.select_dtypes(include=[np.number]).sum()\n",
    "print(\"Column Sums \\n\", column_sums)"
   ]
  },
  {
   "cell_type": "code",
   "execution_count": 72,
   "id": "687094a8-eb88-4885-aae7-2350f1135ab1",
   "metadata": {},
   "outputs": [
    {
     "name": "stdout",
     "output_type": "stream",
     "text": [
      "\n",
      "Column Ranges \n",
      " PM2.5           79.58\n",
      "PM10           105.33\n",
      "NO2             88.92\n",
      "SO2             24.32\n",
      "CO               7.62\n",
      "O3             143.02\n",
      "Temperature     21.83\n",
      "Humidity        70.67\n",
      "Wind Speed       7.80\n",
      "dtype: float64\n"
     ]
    }
   ],
   "source": [
    "column_ranges = df.select_dtypes(include=[np.number]).apply(lambda x: x.max() - x.min())\n",
    "print(\"\\nColumn Ranges \\n\", column_ranges)"
   ]
  },
  {
   "cell_type": "code",
   "execution_count": 73,
   "id": "fa0d5bca-4bc0-4640-bf70-6f1c82e8e163",
   "metadata": {},
   "outputs": [
    {
     "name": "stdout",
     "output_type": "stream",
     "text": [
      "\n",
      "Column Means\n",
      " PM2.5          88.462\n",
      "PM10           69.388\n",
      "NO2            66.868\n",
      "SO2            20.828\n",
      "CO              3.544\n",
      "O3             93.100\n",
      "Temperature    17.118\n",
      "Humidity       69.282\n",
      "Wind Speed     10.972\n",
      "dtype: float64\n"
     ]
    }
   ],
   "source": [
    "column_means = df.select_dtypes(include=[np.number]).mean()\n",
    "print(\"\\nColumn Means\\n\", column_means)"
   ]
  },
  {
   "cell_type": "code",
   "execution_count": 75,
   "id": "bfee15b2-b733-4a88-8fb2-dc5cc7c845b1",
   "metadata": {},
   "outputs": [
    {
     "name": "stdout",
     "output_type": "stream",
     "text": [
      "\n",
      "Column Modes\n",
      " PM2.5          50.63\n",
      "PM10           25.19\n",
      "NO2            10.96\n",
      "SO2             8.71\n",
      "CO              0.12\n",
      "O3             36.29\n",
      "Temperature     3.46\n",
      "Humidity       29.30\n",
      "Wind Speed      6.36\n",
      "Name: 0, dtype: float64\n"
     ]
    }
   ],
   "source": [
    "column_modes = df.select_dtypes(include=[np.number]).mode().iloc[0]\n",
    "print(\"\\nColumn Modes\\n\", column_modes)\n"
   ]
  },
  {
   "cell_type": "code",
   "execution_count": 77,
   "id": "b1d58ac9-efc0-4fb6-8072-741e9e79e973",
   "metadata": {},
   "outputs": [
    {
     "name": "stdout",
     "output_type": "stream",
     "text": [
      "\n",
      "One-Hot Encoded Data\n",
      "         Date   PM2.5    PM10    NO2    SO2    CO      O3  Temperature  \\\n",
      "0 2023-03-19   86.57   25.19  99.88  30.63  4.46   36.29        17.67   \n",
      "1 2023-02-16   50.63   97.39  48.14   8.71  3.40  144.16         3.46   \n",
      "2 2023-11-13  130.21   57.22  98.51   9.92  0.12  179.31        25.29   \n",
      "3 2023-03-16  119.70  130.52  10.96  33.03  7.74   38.65        23.15   \n",
      "4 2023-04-04   55.20   36.62  76.85  21.85  2.00   67.09        16.02   \n",
      "\n",
      "   Humidity  Wind Speed  City_Istanbul  City_Mumbai  City_Paris  \\\n",
      "0     59.35       13.76          False        False       False   \n",
      "1     67.51        6.36           True        False       False   \n",
      "2     29.30       12.87          False        False       False   \n",
      "3     99.97        7.71          False         True       False   \n",
      "4     90.28       14.16          False        False        True   \n",
      "\n",
      "   City_Rio de Janeiro  Country_France  Country_India  Country_Thailand  \\\n",
      "0                False           False          False              True   \n",
      "1                False           False          False             False   \n",
      "2                 True           False          False             False   \n",
      "3                False           False           True             False   \n",
      "4                False            True          False             False   \n",
      "\n",
      "   Country_Turkey  \n",
      "0           False  \n",
      "1            True  \n",
      "2           False  \n",
      "3           False  \n",
      "4           False  \n"
     ]
    }
   ],
   "source": [
    "df_dummies = pd.get_dummies(df, columns=['City', 'Country'], drop_first=True)\n",
    "print(\"\\nOne-Hot Encoded Data\\n\", df_dummies.head())"
   ]
  },
  {
   "cell_type": "code",
   "execution_count": 85,
   "id": "72ffd8ef-d0e0-4ebf-ae15-2198bf38ff3b",
   "metadata": {},
   "outputs": [
    {
     "name": "stdout",
     "output_type": "stream",
     "text": [
      "\n",
      " Cities with Temperature > 20°C\n",
      " ['Rio de Janeiro', 'Mumbai']\n"
     ]
    }
   ],
   "source": [
    "high_temp_threshold = 20\n",
    "high_temp_cities = df[df['Temperature'] > high_temp_threshold]['City']\n",
    "print(\"\\n Cities with Temperature > 20°C\\n\", high_temp_cities.tolist())"
   ]
  },
  {
   "cell_type": "code",
   "execution_count": 84,
   "id": "9475b28c-5716-413c-ad3e-25012a0eb231",
   "metadata": {},
   "outputs": [
    {
     "name": "stdout",
     "output_type": "stream",
     "text": [
      "\n",
      " Cities with PM2.5 > 100 \n",
      " ['Rio de Janeiro', 'Mumbai']\n"
     ]
    }
   ],
   "source": [
    "high_pollution_cities = df[df['PM2.5'] > 100]['City']\n",
    "print(\"\\n Cities with PM2.5 > 100 \\n\", high_pollution_cities.tolist())"
   ]
  },
  {
   "cell_type": "code",
   "execution_count": 86,
   "id": "c46556ff-ef6b-4550-a6b8-be772dd8dd63",
   "metadata": {},
   "outputs": [],
   "source": [
    "import pandas as pd\n",
    "import matplotlib.pyplot as plt\n",
    "import seaborn as sns"
   ]
  },
  {
   "cell_type": "code",
   "execution_count": 112,
   "id": "8fd25eca-9f71-4f75-ba7a-5d1ca34711eb",
   "metadata": {},
   "outputs": [
    {
     "ename": "ValueError",
     "evalue": "Could not interpret value `PM2.5` for `y`. An entry with this name does not appear in `data`.",
     "output_type": "error",
     "traceback": [
      "\u001b[1;31m---------------------------------------------------------------------------\u001b[0m",
      "\u001b[1;31mValueError\u001b[0m                                Traceback (most recent call last)",
      "Cell \u001b[1;32mIn[112], line 2\u001b[0m\n\u001b[0;32m      1\u001b[0m plt\u001b[38;5;241m.\u001b[39mfigure(figsize\u001b[38;5;241m=\u001b[39m(\u001b[38;5;241m8\u001b[39m, \u001b[38;5;241m5\u001b[39m))\n\u001b[1;32m----> 2\u001b[0m sns\u001b[38;5;241m.\u001b[39mbarplot(x\u001b[38;5;241m=\u001b[39m\u001b[38;5;124m\"\u001b[39m\u001b[38;5;124mCity\u001b[39m\u001b[38;5;124m\"\u001b[39m, y\u001b[38;5;241m=\u001b[39m\u001b[38;5;124m\"\u001b[39m\u001b[38;5;124mPM2.5\u001b[39m\u001b[38;5;124m\"\u001b[39m, data\u001b[38;5;241m=\u001b[39mdf)\n\u001b[0;32m      3\u001b[0m plt\u001b[38;5;241m.\u001b[39mtitle(\u001b[38;5;124m\"\u001b[39m\u001b[38;5;124mPM2.5 Levels by City\u001b[39m\u001b[38;5;124m\"\u001b[39m)\n\u001b[0;32m      4\u001b[0m plt\u001b[38;5;241m.\u001b[39mylabel(\u001b[38;5;124m\"\u001b[39m\u001b[38;5;124mPM2.5\u001b[39m\u001b[38;5;124m\"\u001b[39m)\n",
      "File \u001b[1;32m~\\anaconda3\\Lib\\site-packages\\seaborn\\categorical.py:2341\u001b[0m, in \u001b[0;36mbarplot\u001b[1;34m(data, x, y, hue, order, hue_order, estimator, errorbar, n_boot, seed, units, weights, orient, color, palette, saturation, fill, hue_norm, width, dodge, gap, log_scale, native_scale, formatter, legend, capsize, err_kws, ci, errcolor, errwidth, ax, **kwargs)\u001b[0m\n\u001b[0;32m   2338\u001b[0m \u001b[38;5;28;01mif\u001b[39;00m estimator \u001b[38;5;129;01mis\u001b[39;00m \u001b[38;5;28mlen\u001b[39m:\n\u001b[0;32m   2339\u001b[0m     estimator \u001b[38;5;241m=\u001b[39m \u001b[38;5;124m\"\u001b[39m\u001b[38;5;124msize\u001b[39m\u001b[38;5;124m\"\u001b[39m\n\u001b[1;32m-> 2341\u001b[0m p \u001b[38;5;241m=\u001b[39m _CategoricalAggPlotter(\n\u001b[0;32m   2342\u001b[0m     data\u001b[38;5;241m=\u001b[39mdata,\n\u001b[0;32m   2343\u001b[0m     variables\u001b[38;5;241m=\u001b[39m\u001b[38;5;28mdict\u001b[39m(x\u001b[38;5;241m=\u001b[39mx, y\u001b[38;5;241m=\u001b[39my, hue\u001b[38;5;241m=\u001b[39mhue, units\u001b[38;5;241m=\u001b[39munits, weight\u001b[38;5;241m=\u001b[39mweights),\n\u001b[0;32m   2344\u001b[0m     order\u001b[38;5;241m=\u001b[39morder,\n\u001b[0;32m   2345\u001b[0m     orient\u001b[38;5;241m=\u001b[39morient,\n\u001b[0;32m   2346\u001b[0m     color\u001b[38;5;241m=\u001b[39mcolor,\n\u001b[0;32m   2347\u001b[0m     legend\u001b[38;5;241m=\u001b[39mlegend,\n\u001b[0;32m   2348\u001b[0m )\n\u001b[0;32m   2350\u001b[0m \u001b[38;5;28;01mif\u001b[39;00m ax \u001b[38;5;129;01mis\u001b[39;00m \u001b[38;5;28;01mNone\u001b[39;00m:\n\u001b[0;32m   2351\u001b[0m     ax \u001b[38;5;241m=\u001b[39m plt\u001b[38;5;241m.\u001b[39mgca()\n",
      "File \u001b[1;32m~\\anaconda3\\Lib\\site-packages\\seaborn\\categorical.py:67\u001b[0m, in \u001b[0;36m_CategoricalPlotter.__init__\u001b[1;34m(self, data, variables, order, orient, require_numeric, color, legend)\u001b[0m\n\u001b[0;32m     56\u001b[0m \u001b[38;5;28;01mdef\u001b[39;00m\u001b[38;5;250m \u001b[39m\u001b[38;5;21m__init__\u001b[39m(\n\u001b[0;32m     57\u001b[0m     \u001b[38;5;28mself\u001b[39m,\n\u001b[0;32m     58\u001b[0m     data\u001b[38;5;241m=\u001b[39m\u001b[38;5;28;01mNone\u001b[39;00m,\n\u001b[1;32m   (...)\u001b[0m\n\u001b[0;32m     64\u001b[0m     legend\u001b[38;5;241m=\u001b[39m\u001b[38;5;124m\"\u001b[39m\u001b[38;5;124mauto\u001b[39m\u001b[38;5;124m\"\u001b[39m,\n\u001b[0;32m     65\u001b[0m ):\n\u001b[1;32m---> 67\u001b[0m     \u001b[38;5;28msuper\u001b[39m()\u001b[38;5;241m.\u001b[39m\u001b[38;5;21m__init__\u001b[39m(data\u001b[38;5;241m=\u001b[39mdata, variables\u001b[38;5;241m=\u001b[39mvariables)\n\u001b[0;32m     69\u001b[0m     \u001b[38;5;66;03m# This method takes care of some bookkeeping that is necessary because the\u001b[39;00m\n\u001b[0;32m     70\u001b[0m     \u001b[38;5;66;03m# original categorical plots (prior to the 2021 refactor) had some rules that\u001b[39;00m\n\u001b[0;32m     71\u001b[0m     \u001b[38;5;66;03m# don't fit exactly into VectorPlotter logic. It may be wise to have a second\u001b[39;00m\n\u001b[1;32m   (...)\u001b[0m\n\u001b[0;32m     76\u001b[0m     \u001b[38;5;66;03m# default VectorPlotter rules. If we do decide to make orient part of the\u001b[39;00m\n\u001b[0;32m     77\u001b[0m     \u001b[38;5;66;03m# _base variable assignment, we'll want to figure out how to express that.\u001b[39;00m\n\u001b[0;32m     78\u001b[0m     \u001b[38;5;28;01mif\u001b[39;00m \u001b[38;5;28mself\u001b[39m\u001b[38;5;241m.\u001b[39minput_format \u001b[38;5;241m==\u001b[39m \u001b[38;5;124m\"\u001b[39m\u001b[38;5;124mwide\u001b[39m\u001b[38;5;124m\"\u001b[39m \u001b[38;5;129;01mand\u001b[39;00m orient \u001b[38;5;129;01min\u001b[39;00m [\u001b[38;5;124m\"\u001b[39m\u001b[38;5;124mh\u001b[39m\u001b[38;5;124m\"\u001b[39m, \u001b[38;5;124m\"\u001b[39m\u001b[38;5;124my\u001b[39m\u001b[38;5;124m\"\u001b[39m]:\n",
      "File \u001b[1;32m~\\anaconda3\\Lib\\site-packages\\seaborn\\_base.py:634\u001b[0m, in \u001b[0;36mVectorPlotter.__init__\u001b[1;34m(self, data, variables)\u001b[0m\n\u001b[0;32m    629\u001b[0m \u001b[38;5;66;03m# var_ordered is relevant only for categorical axis variables, and may\u001b[39;00m\n\u001b[0;32m    630\u001b[0m \u001b[38;5;66;03m# be better handled by an internal axis information object that tracks\u001b[39;00m\n\u001b[0;32m    631\u001b[0m \u001b[38;5;66;03m# such information and is set up by the scale_* methods. The analogous\u001b[39;00m\n\u001b[0;32m    632\u001b[0m \u001b[38;5;66;03m# information for numeric axes would be information about log scales.\u001b[39;00m\n\u001b[0;32m    633\u001b[0m \u001b[38;5;28mself\u001b[39m\u001b[38;5;241m.\u001b[39m_var_ordered \u001b[38;5;241m=\u001b[39m {\u001b[38;5;124m\"\u001b[39m\u001b[38;5;124mx\u001b[39m\u001b[38;5;124m\"\u001b[39m: \u001b[38;5;28;01mFalse\u001b[39;00m, \u001b[38;5;124m\"\u001b[39m\u001b[38;5;124my\u001b[39m\u001b[38;5;124m\"\u001b[39m: \u001b[38;5;28;01mFalse\u001b[39;00m}  \u001b[38;5;66;03m# alt., used DefaultDict\u001b[39;00m\n\u001b[1;32m--> 634\u001b[0m \u001b[38;5;28mself\u001b[39m\u001b[38;5;241m.\u001b[39massign_variables(data, variables)\n\u001b[0;32m    636\u001b[0m \u001b[38;5;66;03m# TODO Lots of tests assume that these are called to initialize the\u001b[39;00m\n\u001b[0;32m    637\u001b[0m \u001b[38;5;66;03m# mappings to default values on class initialization. I'd prefer to\u001b[39;00m\n\u001b[0;32m    638\u001b[0m \u001b[38;5;66;03m# move away from that and only have a mapping when explicitly called.\u001b[39;00m\n\u001b[0;32m    639\u001b[0m \u001b[38;5;28;01mfor\u001b[39;00m var \u001b[38;5;129;01min\u001b[39;00m [\u001b[38;5;124m\"\u001b[39m\u001b[38;5;124mhue\u001b[39m\u001b[38;5;124m\"\u001b[39m, \u001b[38;5;124m\"\u001b[39m\u001b[38;5;124msize\u001b[39m\u001b[38;5;124m\"\u001b[39m, \u001b[38;5;124m\"\u001b[39m\u001b[38;5;124mstyle\u001b[39m\u001b[38;5;124m\"\u001b[39m]:\n",
      "File \u001b[1;32m~\\anaconda3\\Lib\\site-packages\\seaborn\\_base.py:679\u001b[0m, in \u001b[0;36mVectorPlotter.assign_variables\u001b[1;34m(self, data, variables)\u001b[0m\n\u001b[0;32m    674\u001b[0m \u001b[38;5;28;01melse\u001b[39;00m:\n\u001b[0;32m    675\u001b[0m     \u001b[38;5;66;03m# When dealing with long-form input, use the newer PlotData\u001b[39;00m\n\u001b[0;32m    676\u001b[0m     \u001b[38;5;66;03m# object (internal but introduced for the objects interface)\u001b[39;00m\n\u001b[0;32m    677\u001b[0m     \u001b[38;5;66;03m# to centralize / standardize data consumption logic.\u001b[39;00m\n\u001b[0;32m    678\u001b[0m     \u001b[38;5;28mself\u001b[39m\u001b[38;5;241m.\u001b[39minput_format \u001b[38;5;241m=\u001b[39m \u001b[38;5;124m\"\u001b[39m\u001b[38;5;124mlong\u001b[39m\u001b[38;5;124m\"\u001b[39m\n\u001b[1;32m--> 679\u001b[0m     plot_data \u001b[38;5;241m=\u001b[39m PlotData(data, variables)\n\u001b[0;32m    680\u001b[0m     frame \u001b[38;5;241m=\u001b[39m plot_data\u001b[38;5;241m.\u001b[39mframe\n\u001b[0;32m    681\u001b[0m     names \u001b[38;5;241m=\u001b[39m plot_data\u001b[38;5;241m.\u001b[39mnames\n",
      "File \u001b[1;32m~\\anaconda3\\Lib\\site-packages\\seaborn\\_core\\data.py:58\u001b[0m, in \u001b[0;36mPlotData.__init__\u001b[1;34m(self, data, variables)\u001b[0m\n\u001b[0;32m     51\u001b[0m \u001b[38;5;28;01mdef\u001b[39;00m\u001b[38;5;250m \u001b[39m\u001b[38;5;21m__init__\u001b[39m(\n\u001b[0;32m     52\u001b[0m     \u001b[38;5;28mself\u001b[39m,\n\u001b[0;32m     53\u001b[0m     data: DataSource,\n\u001b[0;32m     54\u001b[0m     variables: \u001b[38;5;28mdict\u001b[39m[\u001b[38;5;28mstr\u001b[39m, VariableSpec],\n\u001b[0;32m     55\u001b[0m ):\n\u001b[0;32m     57\u001b[0m     data \u001b[38;5;241m=\u001b[39m handle_data_source(data)\n\u001b[1;32m---> 58\u001b[0m     frame, names, ids \u001b[38;5;241m=\u001b[39m \u001b[38;5;28mself\u001b[39m\u001b[38;5;241m.\u001b[39m_assign_variables(data, variables)\n\u001b[0;32m     60\u001b[0m     \u001b[38;5;28mself\u001b[39m\u001b[38;5;241m.\u001b[39mframe \u001b[38;5;241m=\u001b[39m frame\n\u001b[0;32m     61\u001b[0m     \u001b[38;5;28mself\u001b[39m\u001b[38;5;241m.\u001b[39mnames \u001b[38;5;241m=\u001b[39m names\n",
      "File \u001b[1;32m~\\anaconda3\\Lib\\site-packages\\seaborn\\_core\\data.py:232\u001b[0m, in \u001b[0;36mPlotData._assign_variables\u001b[1;34m(self, data, variables)\u001b[0m\n\u001b[0;32m    230\u001b[0m     \u001b[38;5;28;01melse\u001b[39;00m:\n\u001b[0;32m    231\u001b[0m         err \u001b[38;5;241m+\u001b[39m\u001b[38;5;241m=\u001b[39m \u001b[38;5;124m\"\u001b[39m\u001b[38;5;124mAn entry with this name does not appear in `data`.\u001b[39m\u001b[38;5;124m\"\u001b[39m\n\u001b[1;32m--> 232\u001b[0m     \u001b[38;5;28;01mraise\u001b[39;00m \u001b[38;5;167;01mValueError\u001b[39;00m(err)\n\u001b[0;32m    234\u001b[0m \u001b[38;5;28;01melse\u001b[39;00m:\n\u001b[0;32m    235\u001b[0m \n\u001b[0;32m    236\u001b[0m     \u001b[38;5;66;03m# Otherwise, assume the value somehow represents data\u001b[39;00m\n\u001b[0;32m    237\u001b[0m \n\u001b[0;32m    238\u001b[0m     \u001b[38;5;66;03m# Ignore empty data structures\u001b[39;00m\n\u001b[0;32m    239\u001b[0m     \u001b[38;5;28;01mif\u001b[39;00m \u001b[38;5;28misinstance\u001b[39m(val, Sized) \u001b[38;5;129;01mand\u001b[39;00m \u001b[38;5;28mlen\u001b[39m(val) \u001b[38;5;241m==\u001b[39m \u001b[38;5;241m0\u001b[39m:\n",
      "\u001b[1;31mValueError\u001b[0m: Could not interpret value `PM2.5` for `y`. An entry with this name does not appear in `data`."
     ]
    },
    {
     "data": {
      "text/plain": [
       "<Figure size 800x500 with 0 Axes>"
      ]
     },
     "metadata": {},
     "output_type": "display_data"
    }
   ],
   "source": [
    "plt.figure(figsize=(8, 5))\n",
    "sns.barplot(x=\"City\", y=\"PM2.5\", data=df)\n",
    "plt.title(\"PM2.5 Levels by City\")\n",
    "plt.ylabel(\"PM2.5\")\n",
    "plt.xlabel(\"City\")\n",
    "plt.xticks(rotation=45)\n",
    "plt.tight_layout()\n",
    "plt.show()\n"
   ]
  },
  {
   "cell_type": "code",
   "execution_count": 113,
   "id": "6caae3ad-8b02-4cbf-a70d-f5a39b4232c7",
   "metadata": {},
   "outputs": [
    {
     "data": {
      "image/png": "[encoded data removed]",
      "text/plain": [
       "<Figure size 1000x600 with 1 Axes>"
      ]
     },
     "metadata": {},
     "output_type": "display_data"
    }
   ],
   "source": [
    "plt.figure(figsize=(10, 6))\n",
    "sns.lineplot(x=\"City\", y=\"Temperature\", data=df, label=\"Temperature\", marker='o')\n",
    "sns.lineplot(x=\"City\", y=\"Humidity\", data=df, label=\"Humidity\", marker='s')\n",
    "plt.title(\"Temperature and Humidity by City\")\n",
    "plt.ylabel(\"Value\")\n",
    "plt.xticks(rotation=45)\n",
    "plt.legend()\n",
    "plt.tight_layout()\n",
    "plt.show()\n"
   ]
  },
  {
   "cell_type": "code",
   "execution_count": 114,
   "id": "7354ad69-91af-400e-b7db-838befcc79e1",
   "metadata": {},
   "outputs": [
    {
     "name": "stdout",
     "output_type": "stream",
     "text": [
      "🔸 Minimum:\n",
      " PM2_5          50.63\n",
      "PM10           25.19\n",
      "NO2            10.96\n",
      "SO2             8.71\n",
      "CO              0.12\n",
      "O3             36.29\n",
      "Temperature     3.46\n",
      "Humidity       29.30\n",
      "Wind Speed      6.36\n",
      "dtype: float64 \n",
      "\n",
      "🔸 Maximum:\n",
      " PM2_5          130.21\n",
      "PM10           130.52\n",
      "NO2             99.88\n",
      "SO2             33.03\n",
      "CO               7.74\n",
      "O3             179.31\n",
      "Temperature     25.29\n",
      "Humidity        99.97\n",
      "Wind Speed      14.16\n",
      "dtype: float64 \n",
      "\n"
     ]
    }
   ],
   "source": [
    "min_values = df.select_dtypes(include='number').min()\n",
    "print(\"🔸 Minimum:\\n\", min_values, \"\\n\")\n",
    "\n",
    "\n",
    "max_values = df.select_dtypes(include='number').max()\n",
    "print(\"🔸 Maximum:\\n\", max_values, \"\\n\")"
   ]
  },
  {
   "cell_type": "code",
   "execution_count": 115,
   "id": "78425b40-1c7f-472d-a33a-f9230194c65c",
   "metadata": {},
   "outputs": [],
   "source": [
    "df.rename(columns={\"PM2.5\": \"PM2_5\"}, inplace=True)"
   ]
  },
  {
   "cell_type": "code",
   "execution_count": 116,
   "id": "345aa636-0ee6-420e-bc80-f0659c179e33",
   "metadata": {},
   "outputs": [
    {
     "data": {
      "image/png": "[encoded data removed]",
      "text/plain": [
       "<Figure size 800x600 with 1 Axes>"
      ]
     },
     "metadata": {},
     "output_type": "display_data"
    }
   ],
   "source": [
    "plt.figure(figsize=(8, 6))\n",
    "sns.scatterplot(data=df, x='PM2_5', y='PM10', hue='City', legend=False)\n",
    "plt.title('PM2.5 vs PM10 Scatter Plot')\n",
    "plt.xlabel('PM2.5 (µg/m³)')\n",
    "plt.ylabel('PM10 (µg/m³)')\n",
    "plt.grid(True)\n",
    "plt.tight_layout()\n",
    "plt.show()\n"
   ]
  },
  {
   "cell_type": "code",
   "execution_count": null,
   "id": "b3f097b9-f01b-454c-9d09-7ef8d7a5c1f5",
   "metadata": {},
   "outputs": [],
   "source": []
  }
 ],
 "metadata": {
  "kernelspec": {
   "display_name": "Python [conda env:base] *",
   "language": "python",
   "name": "conda-base-py"
  },
  "language_info": {
   "codemirror_mode": {
    "name": "ipython",
    "version": 3
   },
   "file_extension": ".py",
   "mimetype": "text/x-python",
   "name": "python",
   "nbconvert_exporter": "python",
   "pygments_lexer": "ipython3",
   "version": "3.13.5"
  }
 },
 "nbformat": 4,
 "nbformat_minor": 5
}
